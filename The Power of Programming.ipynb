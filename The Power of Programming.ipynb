{
 "cells": [
  {
   "cell_type": "markdown",
   "metadata": {},
   "source": [
    "## The Power of Programming\n",
    "\n",
    "### If you get anything from this...just start programming now\n"
   ]
  },
  {
   "cell_type": "markdown",
   "metadata": {},
   "source": [
    "- How many people are coding or would like to learn how to code?\n",
    "- What is  or was the most difficult part about getting started? What are your obstacles?\n",
    "- Do you have support here at school if you wanted to learn?  What would that look like?\n",
    "- How many of you want to major in math, computer science, or engineering?"
   ]
  },
  {
   "cell_type": "markdown",
   "metadata": {},
   "source": [
    "## But why?"
   ]
  },
  {
   "cell_type": "markdown",
   "metadata": {},
   "source": [
    "<img src=\"../Teach_Kids_to_Code/Top_3_positions.png\" style=\"width: 700px;\"/>\n",
    "\n",
    "\n",
    "\n",
    " \n",
    " \n",
    " \n",
    "*** - 21 out of 50 of the top 50 jobs of 2017 require some sort of programming skill or extensive computer software/hardware literacy ***\n",
    "\n",
    "*** - Jobs that require coding skills pay up to 22K per year or more, on average. ***\n",
    " \n",
    "*** - Nearly half (49 percent) of all jobs that pay more than 58K require some coding skills, according to Burning Glass researchers.***\n",
    "\n",
    "*** - Most programming jobs only require a Bachelor's degree and in some cases, if you're a good enough programmer....you don't even need one ***\n",
    "\n",
    "[Source1](https://www.glassdoor.com/List/Best-Jobs-in-America-LST_KQ0,20.htm)\n",
    "[Source2](https://www.fastcompany.com/3060883/why-coding-is-the-job-skill-of-the-future-for-everyone)"
   ]
  },
  {
   "cell_type": "markdown",
   "metadata": {},
   "source": [
    "## Who is this guy and why are you here?\n",
    "\n",
    "### My Background\n",
    "- ** Data/Math nerd ** \n",
    "- ** Sports fan ** \n",
    "- ** Programmer **\n",
    "- ** B.S. Applied Mathematics (UCA) / M.S Data Science (University of New Haven/Galvanize) **\n",
    "- **Data Scientist @ Swish Analytics** \n",
    "\n",
    "<img src=\"../Teach_Kids_to_Code/Swish_Analytics.png\" style=\"width: 700px;\"/>\n"
   ]
  },
  {
   "cell_type": "markdown",
   "metadata": {},
   "source": [
    "### Why I think this is important\n",
    "- ** The opportunities in data science, machine learning, and software development are exploding and they won't always be in demand like they are today **\n",
    "- ** It's a hard skill and can be mastered < 1 year..if you're dedicated **\n",
    "- ** You can be creative **\n",
    "- ** It's industry agnostic **\n",
    "- ** Multiple learning resources online **\n",
    "- ** Wish someone would have shared something like this with me when I was a junior **\n",
    "- ** Even if you don't like to code..it's something you can always fall back on **"
   ]
  },
  {
   "cell_type": "markdown",
   "metadata": {},
   "source": [
    "## What kind of projects do you work on and what math do you use?\n",
    "\n",
    "### Projects\n",
    "\n",
    "- ** Develop machine learning models to predict player level statistics (shots on goal, saves, etc.) and team win probability for our NHL product. **\n",
    "\n",
    "- ** Write the python and SQL code to get the data from the source to the predictive feature in a real time environment **\n",
    "\n",
    "- ** Provide accurate probability distributions for every stat, for every player, for every game for NFL, NBA, MLB, and NHL products (and all of the code that automates this process) **\n",
    "- ** Product Development**\n",
    "\n",
    "\n",
    "### Mathematics Utilized\n",
    "\n",
    "- ** Multivariate Calculus : ** derivatives, integrals, maximization/minimization problems\n",
    "- ** Statistics/Probability Theory : ** Set theory, hyptothesis testing, applicability of discrete/continuous distributions, Chi-squared tests, Monte-Carlo methods, bayesisan statistics, Maximum Likelihood, Method of Moments, Regression\n",
    "- ** Linear Algebra : **Matrix multiplication/addition, Dimensionality Reduction (eigenvalues/eigenvectors)\n",
    "\n",
    "- ** Algorithm Development : ** Creating unique cost functions, developing problem specific peformance metrics"
   ]
  },
  {
   "cell_type": "markdown",
   "metadata": {},
   "source": [
    "## What is Data Science and Machine Learning (ML)?"
   ]
  },
  {
   "cell_type": "markdown",
   "metadata": {},
   "source": [
    "### Wikipedia definition\n",
    "**\"Data science is a 'concept to unify statistics, data analysis and their related methods' in order to 'understand and analyze actual phenomena' with data. It employs techniques and theories drawn from many fields within the broad areas of mathematics, statistics, information science, and computer science, in particular from the subdomains of machine learning, classification, cluster analysis, data mining, databases, and visualization.\"**\n",
    "\n",
    " [Source](https://en.wikipedia.org/wiki/Data_science)\n",
    " \n",
    " \n",
    "## What I think it is:\n",
    "- Statistics + Machine learning + Scripting + Data Manipulation + Data > 1TB"
   ]
  },
  {
   "cell_type": "markdown",
   "metadata": {},
   "source": [
    "<img src=\"../Teach_Kids_to_Code/DS_venn_diagram.png\" style=\"width: 700px;\"/>"
   ]
  },
  {
   "cell_type": "markdown",
   "metadata": {},
   "source": [
    "## What industries use ML?"
   ]
  },
  {
   "cell_type": "markdown",
   "metadata": {},
   "source": [
    "** prologue to Pedro Domingo's \"The Master Algorithm\"**\n",
    "\n",
    "\"Your clock radio goes off at 7:00 a.m. It’s playing a song you haven’t heard before, but\n",
    "you really like it. Courtesy of Pandora, it’s been learning your tastes in music, like your own\n",
    "personal radio jock. Perhaps the song itself was produced with the help of machine learning. You\n",
    "eat breakfast and read the morning paper. It came off the printing press a few hours earlier, the\n",
    "printing process carefully adjusted to avoid streaking using a learning algorithm. The\n",
    "temperature in your house is just right, and your electricity bill noticeably down, since you\n",
    "installed a Nest learning thermostat.\n",
    "As you drive to work, your car continually adjusts fuel injection and exhaust recirculation\n",
    "to get the best gas mileage. You use Inrix, a traffic prediction system, to shorten your rush-hour\n",
    "commute, not to mention lowering your stress level. At work, machine learning helps you\n",
    "combat information overload. You need to check out a potential supplier’s Web site, but it’s in a foreign language. No\n",
    "problem: Google automatically translates it for you. Your email conveniently sorts itself into\n",
    "folders, leaving only the most important messages in the inbox. Your word processor checks\n",
    "your grammar and spelling. You find a flight for an upcoming trip, but hold off on buying the\n",
    "ticket because Bing Travel predicts its price will go down soon. Without realizing it, you\n",
    "accomplish a lot more, hour by hour, than you would without the help of machine learning.\n",
    "\n",
    "At lunchtime you walk\n",
    "down the street, smartphone in hand, looking for a place to eat. Yelp’s learning system helps you\n",
    "find it. Your cell phone is chock full of learning algorithms. They’re hard at work correcting\n",
    "your typos, understanding your spoken commands, reducing transmission errors, recognizing bar\n",
    "codes, and much else. Your phone can even anticipate what you’re going to do next, and advise\n",
    "you accordingly. For example, as you’re finishing lunch it discreetly alerts you that your\n",
    "afternoon meeting with an out-of-town visitor will have to start late, because her flight has been\n",
    "delayed.\n",
    "Night has fallen by the time you get off work. Machine learning helps keep you safe as\n",
    "you walk to your car, monitoring the video feed from the surveillance camera in the parking lot\n",
    "and alerting off-site security staff if it detects suspicious activity. On your way home you stop at\n",
    "the supermarket, where you walk down aisles that were laid out with the help of learning\n",
    "algorithms: which goods to stock, which end-of-aisle displays to set up, whether to put the salsa\n",
    "in the sauce section or next to the tortilla chips. You pay with a credit card. A learning algorithm\n",
    "continually looks for suspicious transactions, and alerts you if it thinks your card number was\n",
    "stolen.\n",
    "You get home and walk to the mailbox. You have a letter from a friend, routed to you by\n",
    "a learning algorithm that can read handwritten addresses. There’s also the usual junk, selected for\n",
    "you by other learning algorithms (oh, well). You stop for a moment to take in the cool night air.\n",
    "Crime in your city is noticeably down since the police started using statistical learning to predict\n",
    "where crimes are most likely to occur and concentrating beat officers there.  After dinner,\n",
    "you watch the ball game. Both teams selected their players with the help of statistical learning.\n",
    "Or perhaps you play games on your Xbox with your kids, and Kinect’s learning algorithm\n",
    "figures out where you are and what you’re doing.\n",
    "Machine learning plays a part in every stage of your life. If you studied online for the\n",
    "SAT college admission exam, a learning algorithm graded your practice essays. And if you\n",
    "applied to business school and took the GMAT exam recently, one of your essay graders was a\n",
    "learning system.  If you’re\n",
    "looking to buy a house, Zillow.com will estimate what each one you’re considering is worth.\n",
    "When you’ve settled on one, you apply for a home loan, and a learning algorithm studies your\n",
    "application and recommends accepting it (or not). Perhaps most important, if you’ve used an\n",
    "online dating service, machine learning may even have helped you find the love of your life.\"\n",
    "\n",
    " [Source](http://homes.cs.washington.edu/~pedrod/Prologue.pdf)"
   ]
  },
  {
   "cell_type": "markdown",
   "metadata": {},
   "source": [
    "<img src=\"../Teach_Kids_to_Code/see you in the future.gif\" style=\"width: 700px;\"/>\n"
   ]
  },
  {
   "cell_type": "markdown",
   "metadata": {},
   "source": [
    "## Which language to learn?"
   ]
  },
  {
   "cell_type": "markdown",
   "metadata": {},
   "source": [
    "### Most Popular \n",
    "<img src=\"../Teach_Kids_to_Code/Programming_languages_1.png\" style=\"width: 700px;\"/>\n"
   ]
  },
  {
   "cell_type": "markdown",
   "metadata": {},
   "source": [
    "### Most $$$"
   ]
  },
  {
   "cell_type": "markdown",
   "metadata": {},
   "source": [
    "<img src=\"../Teach_Kids_to_Code/Programming_languages_2.png\" style=\"width: 700px;\"/>\n"
   ]
  },
  {
   "cell_type": "markdown",
   "metadata": {},
   "source": [
    "### Best of Both\n",
    "<img src=\"../Teach_Kids_to_Code/Programming_languages_3.png\" style=\"width: 700px;\"/>\n",
    " [Source](https://jobsquery.it/stats/language/group)"
   ]
  },
  {
   "cell_type": "markdown",
   "metadata": {},
   "source": [
    "## Okay...you've convinced me...how do I start?"
   ]
  },
  {
   "cell_type": "markdown",
   "metadata": {},
   "source": [
    "### 1. ) Learn the command line!\n",
    "https://learnpythonthehardway.org/book/appendixa.html\n"
   ]
  },
  {
   "cell_type": "markdown",
   "metadata": {},
   "source": [
    "### 2.) Install python\n",
    "Install Anaconda (python install):\n",
    "\n",
    "For Mac:\n",
    "https://docs.continuum.io/anaconda/install-macos.html\n",
    "\n",
    "\n",
    "For Windows:\n",
    "https://docs.continuum.io/anaconda/install-windows\n"
   ]
  },
  {
   "cell_type": "markdown",
   "metadata": {},
   "source": [
    "### 3.) Use jupyter notebook when starting out\n",
    "How to run a Jupyter Notebook:\n",
    "\n",
    "Type in the command line : jupyter notebook\n"
   ]
  },
  {
   "cell_type": "markdown",
   "metadata": {},
   "source": [
    "## 4.) Learn the basics\n",
    "Start programming!\n",
    "https://learnpythonthehardway.org/book/\n"
   ]
  },
  {
   "cell_type": "markdown",
   "metadata": {},
   "source": [
    "## Test your skills!"
   ]
  },
  {
   "cell_type": "markdown",
   "metadata": {},
   "source": [
    "## Beginner"
   ]
  },
  {
   "cell_type": "code",
   "execution_count": null,
   "metadata": {
    "collapsed": true
   },
   "outputs": [],
   "source": [
    "# Finish function to make tests pass\n",
    "def add_two_numbers(n1, n2):\n",
    "    \"\"\" Add two the numbers\n",
    "    >>> add_two_numbers(1, 2)\n",
    "    3 \"\"\"\n",
    "print add_two_numbers(1, 2)"
   ]
  },
  {
   "cell_type": "code",
   "execution_count": null,
   "metadata": {
    "collapsed": true
   },
   "outputs": [],
   "source": [
    "def sort_rows(mat):\n",
    "    '''\n",
    "    INPUT: 2 dimensional list of integers (matrix)\n",
    "    OUTPUT: 2 dimensional list of integers (matrix)\n",
    "\n",
    "    Use list comprehension to modify each row of the matrix to be sorted.\n",
    "\n",
    "    Example:\n",
    "    >>> M = [[4, 5, 2, 8], [3, 9, 6, 7]]\n",
    "    >>> sort_rows(M)\n",
    "    >>> M\n",
    "    [[2, 4, 5, 8], [3, 6, 7, 9]]\n",
    "    ''' \n",
    "print sort_rows(mat)"
   ]
  },
  {
   "cell_type": "code",
   "execution_count": null,
   "metadata": {
    "collapsed": true
   },
   "outputs": [],
   "source": [
    "def average_rows1(mat):\n",
    "    '''\n",
    "    INPUT: 2 dimensional list of integers (matrix)\n",
    "    OUTPUT: list of floats\n",
    "\n",
    "    Use list comprehension to take the average of each row in the matrix and\n",
    "    return it as a list.\n",
    "\n",
    "    Example:\n",
    "    >>> average_rows1([[4, 5, 2, 8], [3, 9, 6, 7]])\n",
    "    [4.75, 6.25]\n",
    "    '''\n",
    "    '''import numpy\n",
    "    '''\n",
    "print average_rows1(mat)"
   ]
  },
  {
   "cell_type": "markdown",
   "metadata": {},
   "source": [
    "## Intermediate"
   ]
  },
  {
   "cell_type": "code",
   "execution_count": null,
   "metadata": {
    "collapsed": true
   },
   "outputs": [],
   "source": [
    "def word_lengths1(phrase):\n",
    "    '''\n",
    "    INPUT: string\n",
    "    OUTPUT: list of integers\n",
    "\n",
    "    Use list comprehension to find the length of each word in the phrase\n",
    "    (broken by spaces) and return the values in a list.\n",
    "\n",
    "    Example:\n",
    "    >>> word_lengths1(\"Welcome to Intermediate Coding Excercises!\")\n",
    "    [7, 2, 10]\n",
    "    '''\n",
    "print word_lengths1(phrase)"
   ]
  },
  {
   "cell_type": "code",
   "execution_count": null,
   "metadata": {
    "collapsed": true
   },
   "outputs": [],
   "source": [
    "def even_odd1(L):\n",
    "    '''\n",
    "    INPUT: list of integers\n",
    "    OUTPUT: list of strings\n",
    "    \n",
    "    Use list comprehension to return a list of the same length with the strings\n",
    "    \"even\" or \"odd\" depending on whether the element in L is even or odd.\n",
    "    \n",
    "    Example:\n",
    "    >>> even_odd([6, 4, 1, 3, 8, 5])\n",
    "    ['even', 'even', 'odd', 'odd', 'even', 'odd']\n",
    "    '''\n",
    "print even_odd1(L)"
   ]
  },
  {
   "cell_type": "markdown",
   "metadata": {},
   "source": [
    "## Advanced"
   ]
  },
  {
   "cell_type": "code",
   "execution_count": null,
   "metadata": {
    "collapsed": true
   },
   "outputs": [],
   "source": [
    "def is_palindrome(string):\n",
    "    '''\n",
    "    INPUT: string\n",
    "    OUTPUT: boolean\n",
    "    \n",
    "    Return whether the given string is the same forwards and backwards.\n",
    "    \n",
    "    Example:\n",
    "    >>> is_palindrome(\"rats live on no evil star\")\n",
    "    True\n",
    "    '''\n",
    "print is_palindrome(string)"
   ]
  },
  {
   "cell_type": "code",
   "execution_count": null,
   "metadata": {
    "collapsed": true
   },
   "outputs": [],
   "source": [
    "def shuffle(L):\n",
    "    '''\n",
    "    INPUT: list\n",
    "    OUTPUT: list\n",
    "    \n",
    "    Return the result of a \"perfect\" shuffle. You may assume that L has even\n",
    "    length. You should return the result of splitting L in half and alternating\n",
    "    taking an element from each.\n",
    "    \n",
    "    Example:\n",
    "    >>> shuffle([1, 2, 3, 4, 5, 6])\n",
    "    [1, 4, 2, 5, 3, 6]\n",
    "    '''\n",
    "print shuffle(L)"
   ]
  },
  {
   "cell_type": "markdown",
   "metadata": {},
   "source": [
    "## SQL Resource"
   ]
  },
  {
   "cell_type": "markdown",
   "metadata": {},
   "source": [
    "**Beginner, Intermediate, and Advanced SQL:**\n",
    "\n",
    "https://community.modeanalytics.com/sql/tutorial/introduction-to-sql/"
   ]
  },
  {
   "cell_type": "markdown",
   "metadata": {},
   "source": [
    "\n",
    "\n",
    "### Machine Learning Resource\n",
    "\n",
    "Python Machine Learning:\n",
    "https://www.amazon.com/Python-Machine-Learning-Sebastian-Raschka-ebook/dp/B00YSILNL0\n"
   ]
  },
  {
   "cell_type": "markdown",
   "metadata": {},
   "source": [
    "## Questions?"
   ]
  }
 ],
 "metadata": {
  "kernelspec": {
   "display_name": "Python 2",
   "language": "python",
   "name": "python2"
  },
  "language_info": {
   "codemirror_mode": {
    "name": "ipython",
    "version": 2
   },
   "file_extension": ".py",
   "mimetype": "text/x-python",
   "name": "python",
   "nbconvert_exporter": "python",
   "pygments_lexer": "ipython2",
   "version": "2.7.11"
  }
 },
 "nbformat": 4,
 "nbformat_minor": 0
}
